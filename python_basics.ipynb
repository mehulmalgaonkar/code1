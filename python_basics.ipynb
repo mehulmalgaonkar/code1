{
  "nbformat": 4,
  "nbformat_minor": 0,
  "metadata": {
    "colab": {
      "name": "python_basics.ipynb",
      "provenance": [],
      "collapsed_sections": [],
      "authorship_tag": "ABX9TyOj5fYaYz1/j0w2ZxB2r9fq",
      "include_colab_link": true
    },
    "kernelspec": {
      "name": "python3",
      "display_name": "Python 3"
    },
    "language_info": {
      "name": "python"
    }
  },
  "cells": [
    {
      "cell_type": "markdown",
      "metadata": {
        "id": "view-in-github",
        "colab_type": "text"
      },
      "source": [
        "<a href=\"https://colab.research.google.com/github/mehulmalgaonkar/code1/blob/master/python_basics.ipynb\" target=\"_parent\"><img src=\"https://colab.research.google.com/assets/colab-badge.svg\" alt=\"Open In Colab\"/></a>"
      ]
    },
    {
      "cell_type": "code",
      "metadata": {
        "colab": {
          "base_uri": "https://localhost:8080/"
        },
        "id": "h9u37hrCtJ9e",
        "outputId": "8f5f0dc7-c856-4f2d-e5d6-e71b42d4a1fe"
      },
      "source": [
        "print(\"vadapav\")"
      ],
      "execution_count": null,
      "outputs": [
        {
          "output_type": "stream",
          "text": [
            "vadapav\n"
          ],
          "name": "stdout"
        }
      ]
    },
    {
      "cell_type": "code",
      "metadata": {
        "colab": {
          "base_uri": "https://localhost:8080/"
        },
        "id": "hBl03jvew8Nk",
        "outputId": "7a1d471c-c0ca-4000-9300-442cea4f6cbb"
      },
      "source": [
        "if True:\n",
        "   print(\"true\")\n",
        "else:\n",
        "   print(\"false\")"
      ],
      "execution_count": null,
      "outputs": [
        {
          "output_type": "stream",
          "text": [
            "true\n"
          ],
          "name": "stdout"
        }
      ]
    },
    {
      "cell_type": "code",
      "metadata": {
        "colab": {
          "base_uri": "https://localhost:8080/"
        },
        "id": "K5_wDYdhyK9T",
        "outputId": "3ebf0130-0082-4555-d3db-739873de0715"
      },
      "source": [
        "#comment\n",
        "\"\"\"\n",
        "comment\n",
        "\"\"\"\n",
        "print(\"vadapav\")\n"
      ],
      "execution_count": null,
      "outputs": [
        {
          "output_type": "stream",
          "text": [
            "vadapav\n"
          ],
          "name": "stdout"
        }
      ]
    },
    {
      "cell_type": "code",
      "metadata": {
        "colab": {
          "base_uri": "https://localhost:8080/"
        },
        "id": "dhwjdE9N1XLb",
        "outputId": "9515f4cc-5e92-42b5-a4ff-c349f6861a6f"
      },
      "source": [
        "count = 123\n",
        "dist = 1000.0\n",
        "f_name = \"mehul\"\n",
        "print(f_name)\n",
        "print(dist)\n",
        "print(count)"
      ],
      "execution_count": null,
      "outputs": [
        {
          "output_type": "stream",
          "text": [
            "mehul\n",
            "1000.0\n",
            "123\n"
          ],
          "name": "stdout"
        }
      ]
    },
    {
      "cell_type": "code",
      "metadata": {
        "colab": {
          "base_uri": "https://localhost:8080/"
        },
        "id": "bCs8ir2h3Gfc",
        "outputId": "05285c68-7711-4b2b-c132-06f351c75d2d"
      },
      "source": [
        "x=y=z=\"vada\"\n",
        "a,b,c=\"va\",\"da\",\"pav\"\n",
        "m,n,o=1,2,3\n",
        "print(x)\n",
        "print(y)\n",
        "print(z)\n",
        "print(a)\n",
        "print(b)\n",
        "print(c)\n",
        "print(x+c)\n",
        "print(m+o)\n",
        "print(x+\"o\")"
      ],
      "execution_count": null,
      "outputs": [
        {
          "output_type": "stream",
          "text": [
            "vada\n",
            "vada\n",
            "vada\n",
            "va\n",
            "da\n",
            "pav\n",
            "vadapav\n",
            "4\n",
            "vadao\n"
          ],
          "name": "stdout"
        }
      ]
    },
    {
      "cell_type": "markdown",
      "metadata": {
        "id": "CxNgS4d17LkB"
      },
      "source": [
        "# Standard built"
      ]
    },
    {
      "cell_type": "code",
      "metadata": {
        "colab": {
          "base_uri": "https://localhost:8080/"
        },
        "id": "HblECySV7iu6",
        "outputId": "6090afd3-d7a2-4ca5-bfad-b849b8aac31d"
      },
      "source": [
        "x=123\n",
        "y=\"vada pav\"\n",
        "z=2.0\n",
        "print(type(x))\n",
        "print(type(y))\n",
        "print(type(z))"
      ],
      "execution_count": null,
      "outputs": [
        {
          "output_type": "stream",
          "text": [
            "<class 'int'>\n",
            "<class 'str'>\n",
            "<class 'float'>\n"
          ],
          "name": "stdout"
        }
      ]
    },
    {
      "cell_type": "code",
      "metadata": {
        "id": "hKE8qp3v8kAV",
        "colab": {
          "base_uri": "https://localhost:8080/"
        },
        "outputId": "ebb942ca-fbe4-4c5b-e83b-7b7a287fe5c9"
      },
      "source": [
        "x=\"this is a cat\"\n",
        "print(x)\n",
        "print (x[2:5])  #prints from 3 to 5\n",
        "print (x[2:])   #prints from 3 \n",
        "print(x*2)"
      ],
      "execution_count": null,
      "outputs": [
        {
          "output_type": "stream",
          "text": [
            "this is a cat\n",
            "is \n",
            "is is a cat\n",
            "this is a catthis is a cat\n"
          ],
          "name": "stdout"
        }
      ]
    },
    {
      "cell_type": "markdown",
      "metadata": {
        "id": "BVB5gsTO5N0M"
      },
      "source": [
        "CONDITION STATEMENTS"
      ]
    },
    {
      "cell_type": "code",
      "metadata": {
        "colab": {
          "base_uri": "https://localhost:8080/"
        },
        "id": "oe16e9QE3sbI",
        "outputId": "ccc6ad6d-0ddc-4de1-8ef3-c2796db03851"
      },
      "source": [
        "a,b=2,3\n",
        "if a>b:\n",
        " print(\"a is greater\")\n",
        "elif a<b:                     #else if statement(2nd condition)\n",
        " print(\"b is greater\")\n",
        "else:\n",
        " print(\"a and b are equal\")\n"
      ],
      "execution_count": null,
      "outputs": [
        {
          "output_type": "stream",
          "text": [
            "b is greater\n"
          ],
          "name": "stdout"
        }
      ]
    },
    {
      "cell_type": "code",
      "metadata": {
        "colab": {
          "base_uri": "https://localhost:8080/"
        },
        "id": "BWCPWnLm4O_6",
        "outputId": "16ecd55a-d0fc-4576-a30d-370e0a635eb8"
      },
      "source": [
        "a,b=2,3\n",
        "print (\"A\") if a>b else print (\"=\") if a==b else print(\"B\")    #short condition"
      ],
      "execution_count": null,
      "outputs": [
        {
          "output_type": "stream",
          "text": [
            "B\n"
          ],
          "name": "stdout"
        }
      ]
    },
    {
      "cell_type": "code",
      "metadata": {
        "colab": {
          "base_uri": "https://localhost:8080/"
        },
        "id": "lo2frUWa5TZV",
        "outputId": "f4c10c6f-c522-4cb3-9cb1-77a42432cd50"
      },
      "source": [
        "a,b,c=1,3,2\n",
        "if a<b and c>a:                           #if 1st statement and 2nd statement is true then execute \n",
        " print (\"both conditions are true\")\n",
        "if a<b or c<a:                            #if 1st statement or 2nd statement is true then execute \n",
        "  print (\"atleast one condition is true\")"
      ],
      "execution_count": null,
      "outputs": [
        {
          "output_type": "stream",
          "text": [
            "both conditions are true\n",
            "atleast one condition is true\n"
          ],
          "name": "stdout"
        }
      ]
    },
    {
      "cell_type": "code",
      "metadata": {
        "colab": {
          "base_uri": "https://localhost:8080/"
        },
        "id": "D-B7LKUB6h_a",
        "outputId": "01f0fe9d-26cd-4c8f-8b1a-f2cd8889a3b0"
      },
      "source": [
        "x=15\n",
        "if x>10:\n",
        "  print(\"it is greater than 10\")\n",
        "  if x>20:                            #nested if condition\n",
        "    print(\"it is greater than 20\")\n",
        "  else:\n",
        "    print(\"it is not greater than 20\")\n",
        "else:\n",
        "  print(\"it is not greater than 10\")"
      ],
      "execution_count": null,
      "outputs": [
        {
          "output_type": "stream",
          "text": [
            "it is greater than 10\n",
            "it is not greater than 20\n"
          ],
          "name": "stdout"
        }
      ]
    },
    {
      "cell_type": "markdown",
      "metadata": {
        "id": "8awBuRue_AOZ"
      },
      "source": [
        "LOOPS"
      ]
    },
    {
      "cell_type": "code",
      "metadata": {
        "colab": {
          "base_uri": "https://localhost:8080/"
        },
        "id": "otV5mJ1v8OyY",
        "outputId": "0e386f12-2da5-4f30-884a-dc14e75b8c43"
      },
      "source": [
        "i=1\n",
        "while i<=10:          #while loop\n",
        "  print(i*2)\n",
        "  i+=1"
      ],
      "execution_count": null,
      "outputs": [
        {
          "output_type": "stream",
          "text": [
            "2\n",
            "4\n",
            "6\n",
            "8\n",
            "10\n",
            "12\n",
            "14\n",
            "16\n",
            "18\n",
            "20\n"
          ],
          "name": "stdout"
        }
      ]
    },
    {
      "cell_type": "code",
      "metadata": {
        "colab": {
          "base_uri": "https://localhost:8080/"
        },
        "id": "gifw08DPAxr3",
        "outputId": "cb3e1301-8d06-4ef5-bdec-8ab70c71c59b"
      },
      "source": [
        "i=1\n",
        "while i<=10:\n",
        "  print(i)\n",
        "  if i==3:\n",
        "    break         #breaks the loop\n",
        "  i+=1"
      ],
      "execution_count": null,
      "outputs": [
        {
          "output_type": "stream",
          "text": [
            "1\n",
            "2\n",
            "3\n"
          ],
          "name": "stdout"
        }
      ]
    },
    {
      "cell_type": "code",
      "metadata": {
        "colab": {
          "base_uri": "https://localhost:8080/"
        },
        "id": "Z4qTeQZcCyDu",
        "outputId": "0f90f487-7d5f-4765-de6c-a6cad6cdea0f"
      },
      "source": [
        "i=1\n",
        "while i<=10:\n",
        "  i+=1\n",
        "  if i==3:\n",
        "    continue         #continues the loop(skips the following statement)\n",
        "  print(i)\n"
      ],
      "execution_count": null,
      "outputs": [
        {
          "output_type": "stream",
          "text": [
            "2\n",
            "4\n",
            "5\n",
            "6\n",
            "7\n",
            "8\n",
            "9\n",
            "10\n",
            "11\n"
          ],
          "name": "stdout"
        }
      ]
    },
    {
      "cell_type": "code",
      "metadata": {
        "colab": {
          "base_uri": "https://localhost:8080/"
        },
        "id": "-9lt1TZIEOJo",
        "outputId": "1a51204b-597d-4c7a-e1c6-291da42297b5"
      },
      "source": [
        "i=1\n",
        "while i<=5:          #while loop\n",
        "  print(i)\n",
        "  i+=1\n",
        "else:\n",
        "  print(\"condition fulfilled\")"
      ],
      "execution_count": null,
      "outputs": [
        {
          "output_type": "stream",
          "text": [
            "1\n",
            "2\n",
            "3\n",
            "4\n",
            "5\n",
            "condition fulfilled\n"
          ],
          "name": "stdout"
        }
      ]
    },
    {
      "cell_type": "code",
      "metadata": {
        "colab": {
          "base_uri": "https://localhost:8080/"
        },
        "id": "woDYvs9AExHX",
        "outputId": "b70eba16-3dce-45cb-f72b-f075f9469268"
      },
      "source": [
        "fruits=[\"orange\",\"apple\",\"banana\"]\n",
        "for x in fruits:                    #for loop\n",
        "  print(x) "
      ],
      "execution_count": null,
      "outputs": [
        {
          "output_type": "stream",
          "text": [
            "orange\n",
            "apple\n",
            "banana\n"
          ],
          "name": "stdout"
        }
      ]
    },
    {
      "cell_type": "code",
      "metadata": {
        "colab": {
          "base_uri": "https://localhost:8080/"
        },
        "id": "XE5bpSrqGJn-",
        "outputId": "9e758f55-429e-429e-f2da-8d74becdd88b"
      },
      "source": [
        "for x in \"banana\": #also works with string\n",
        "  print(x)"
      ],
      "execution_count": null,
      "outputs": [
        {
          "output_type": "stream",
          "text": [
            "b\n",
            "a\n",
            "n\n",
            "a\n",
            "n\n",
            "a\n"
          ],
          "name": "stdout"
        }
      ]
    },
    {
      "cell_type": "code",
      "metadata": {
        "colab": {
          "base_uri": "https://localhost:8080/"
        },
        "id": "7xOrHDd8Gfri",
        "outputId": "b65f424f-8b22-49e5-f5bb-693eb68f062c"
      },
      "source": [
        "for x in range(6):    #range function\n",
        "  print(x)\n",
        "else:                 #else can also be used\n",
        "  print(range(6))"
      ],
      "execution_count": null,
      "outputs": [
        {
          "output_type": "stream",
          "text": [
            "0\n",
            "1\n",
            "2\n",
            "3\n",
            "4\n",
            "5\n",
            "range(0, 6)\n"
          ],
          "name": "stdout"
        }
      ]
    },
    {
      "cell_type": "code",
      "metadata": {
        "colab": {
          "base_uri": "https://localhost:8080/"
        },
        "id": "pG9mvUx5Hmtm",
        "outputId": "7fb33264-83a5-4a02-f088-e978cefc5186"
      },
      "source": [
        "color=[\"red\",\"green\",\"yellow\"]\n",
        "fruits=[\"orange\",\"apple\",\"banana\"]\n",
        "for x in color:                    #for loop\n",
        "  for y in fruits:                    #inner for loop\n",
        "    print(x,y) \n",
        "  "
      ],
      "execution_count": null,
      "outputs": [
        {
          "output_type": "stream",
          "text": [
            "red orange\n",
            "red apple\n",
            "red banana\n",
            "green orange\n",
            "green apple\n",
            "green banana\n",
            "yellow orange\n",
            "yellow apple\n",
            "yellow banana\n"
          ],
          "name": "stdout"
        }
      ]
    },
    {
      "cell_type": "markdown",
      "metadata": {
        "id": "sV97M62jK3ms"
      },
      "source": [
        "INPUT"
      ]
    },
    {
      "cell_type": "code",
      "metadata": {
        "colab": {
          "base_uri": "https://localhost:8080/"
        },
        "id": "txGxSvvvK5nY",
        "outputId": "a11d486d-c6df-40ba-8b3c-97ae54407cf1"
      },
      "source": [
        "x=input(\"enter value\")\n",
        "x=float(x)\n",
        "print(x)"
      ],
      "execution_count": null,
      "outputs": [
        {
          "output_type": "stream",
          "text": [
            "enter value5\n",
            "5.0\n"
          ],
          "name": "stdout"
        }
      ]
    },
    {
      "cell_type": "markdown",
      "metadata": {
        "id": "662bFg2ALga7"
      },
      "source": [
        "FUNCTIONS"
      ]
    },
    {
      "cell_type": "code",
      "metadata": {
        "colab": {
          "base_uri": "https://localhost:8080/"
        },
        "id": "ztwONKV0LfAc",
        "outputId": "09a540cb-e32e-48d8-8831-d9ec5f9030f7"
      },
      "source": [
        "def func():            #defining the function\n",
        "  print(\"vadapav\")\n",
        "func()                 #calling the function"
      ],
      "execution_count": null,
      "outputs": [
        {
          "output_type": "stream",
          "text": [
            "vadapav\n"
          ],
          "name": "stdout"
        }
      ]
    },
    {
      "cell_type": "code",
      "metadata": {
        "colab": {
          "base_uri": "https://localhost:8080/"
        },
        "id": "y1bMGv_MML6Y",
        "outputId": "b8ff5977-b870-41d9-cd1f-16cdcc15d0d3"
      },
      "source": [
        "def func(x):            #defining the function\n",
        "  print(x +\"pav\")\n",
        "func(\"vada\")  \n",
        "func(\"samosa\") "
      ],
      "execution_count": null,
      "outputs": [
        {
          "output_type": "stream",
          "text": [
            "vadapav\n",
            "samosapav\n"
          ],
          "name": "stdout"
        }
      ]
    },
    {
      "cell_type": "code",
      "metadata": {
        "colab": {
          "base_uri": "https://localhost:8080/"
        },
        "id": "eTdWiCFRNtNC",
        "outputId": "2c82fc17-0e94-433b-e332-b91065ed1ddc"
      },
      "source": [
        "def func(x):            #defining the function\n",
        "  print(x[0] +\"pav\")\n",
        "func([\"vada\",\"samosa\"])"
      ],
      "execution_count": null,
      "outputs": [
        {
          "output_type": "stream",
          "text": [
            "vadapav\n"
          ],
          "name": "stdout"
        }
      ]
    },
    {
      "cell_type": "code",
      "metadata": {
        "colab": {
          "base_uri": "https://localhost:8080/"
        },
        "id": "mbL5B6g9OL0s",
        "outputId": "491c0e76-845f-4e1f-f26b-89eac382e30a"
      },
      "source": [
        "def func(x=\"vada\"):            #defining the function with default value\n",
        "  print(x +\"pav\")\n",
        "func()  \n",
        "func(\"samosa\") "
      ],
      "execution_count": null,
      "outputs": [
        {
          "output_type": "stream",
          "text": [
            "vadapav\n",
            "samosapav\n"
          ],
          "name": "stdout"
        }
      ]
    },
    {
      "cell_type": "code",
      "metadata": {
        "colab": {
          "base_uri": "https://localhost:8080/"
        },
        "id": "AcPO2_hBPJCB",
        "outputId": "d65ba346-060b-471e-cf23-c1d3c7151f0f"
      },
      "source": [
        "def func(x):            #defining the function\n",
        "  return 5+x              #returns value \n",
        "func(5) "
      ],
      "execution_count": null,
      "outputs": [
        {
          "output_type": "execute_result",
          "data": {
            "text/plain": [
              "10"
            ]
          },
          "metadata": {
            "tags": []
          },
          "execution_count": 50
        }
      ]
    },
    {
      "cell_type": "code",
      "metadata": {
        "colab": {
          "base_uri": "https://localhost:8080/"
        },
        "id": "3dQQptmMTd7f",
        "outputId": "aedb5dec-4f36-47ed-fd3b-81a0989a6e9a"
      },
      "source": [
        "x= lambda a,b:a*b #lambda function can have n no. of arguments but only one expression\n",
        "print(x(5,6))"
      ],
      "execution_count": null,
      "outputs": [
        {
          "output_type": "stream",
          "text": [
            "30\n"
          ],
          "name": "stdout"
        }
      ]
    },
    {
      "cell_type": "markdown",
      "metadata": {
        "id": "CyM4J2INDmHj"
      },
      "source": [
        "CLASS AND OBJECT"
      ]
    },
    {
      "cell_type": "code",
      "metadata": {
        "colab": {
          "base_uri": "https://localhost:8080/"
        },
        "id": "1Wn7JsbiDyLX",
        "outputId": "d1daec05-82e5-422c-aae3-d0cf50413f12"
      },
      "source": [
        "class car:                  #creating a class\n",
        "  year=2016\n",
        "  mpg=20\n",
        "  speed=100\n",
        "  def accelerate(self):\n",
        "    return car.speed+20\n",
        "  def brake(self):\n",
        "    return car.speed-50\n",
        "car1=car()                   #creating an object\n",
        "print(car1.accelerate())\n",
        "print(car1.brake())\n",
        "print(car1.year)\n",
        "print(car1.mpg)\n",
        "print(car1.speed)"
      ],
      "execution_count": null,
      "outputs": [
        {
          "output_type": "stream",
          "text": [
            "120\n",
            "50\n",
            "2016\n",
            "20\n",
            "100\n"
          ],
          "name": "stdout"
        }
      ]
    },
    {
      "cell_type": "markdown",
      "metadata": {
        "id": "Rh8lrjDHWNB-"
      },
      "source": [
        "EXCEPTION HANDELING"
      ]
    },
    {
      "cell_type": "code",
      "metadata": {
        "colab": {
          "base_uri": "https://localhost:8080/"
        },
        "id": "qPLOXq6vIzDl",
        "outputId": "8dc0ffef-c61f-4c0b-aeaa-08f814f556a3"
      },
      "source": [
        " try:\n",
        "   x=4\n",
        "   print(x/0)\n",
        "\n",
        "except:\n",
        "  print(\"An error occured\")\n"
      ],
      "execution_count": null,
      "outputs": [
        {
          "output_type": "stream",
          "text": [
            "An error occured\n"
          ],
          "name": "stdout"
        }
      ]
    },
    {
      "cell_type": "code",
      "metadata": {
        "colab": {
          "base_uri": "https://localhost:8080/"
        },
        "id": "ArtUpk_YXZhv",
        "outputId": "12e7b6fe-d5c4-4401-b36f-7a717f81c5b7"
      },
      "source": [
        "try:\n",
        "  print(a)\n",
        "\n",
        "except NameError:\n",
        "  print(\"VARIABLE ERROR\")\n",
        "except:\n",
        "  print(\"ERROR\")\n",
        "else:\n",
        "  print(\"SUCCESS\")"
      ],
      "execution_count": null,
      "outputs": [
        {
          "output_type": "stream",
          "text": [
            "VARIABLE ERROR\n"
          ],
          "name": "stdout"
        }
      ]
    },
    {
      "cell_type": "markdown",
      "metadata": {
        "id": "obZhuUsBIwYL"
      },
      "source": [
        "RegEX(regular expression)"
      ]
    },
    {
      "cell_type": "code",
      "metadata": {
        "id": "ZzExKhKKYOgf"
      },
      "source": [
        "import re"
      ],
      "execution_count": null,
      "outputs": []
    },
    {
      "cell_type": "code",
      "metadata": {
        "colab": {
          "base_uri": "https://localhost:8080/"
        },
        "id": "Gfw0KIpiMCw2",
        "outputId": "9bab56a2-2c0b-45ab-f59a-1480efac4dbe"
      },
      "source": [
        "txt =\"the rain in spain\"\n",
        "x= re.search(\"^the.*spain$\",txt) #regex to search for a word\n",
        "print(x)"
      ],
      "execution_count": null,
      "outputs": [
        {
          "output_type": "stream",
          "text": [
            "<re.Match object; span=(0, 17), match='the rain in spain'>\n"
          ],
          "name": "stdout"
        }
      ]
    },
    {
      "cell_type": "code",
      "metadata": {
        "colab": {
          "base_uri": "https://localhost:8080/"
        },
        "id": "S2pZY7qoM9dU",
        "outputId": "e6e3fa41-aec8-41f1-cf01-80155f62ce86"
      },
      "source": [
        "txt =\"the rain in spain\"\n",
        "x= re.findall(\"ai\",txt) #regex to search for all occurences\n",
        "print(x)\n",
        "print(len(x))"
      ],
      "execution_count": null,
      "outputs": [
        {
          "output_type": "stream",
          "text": [
            "['ai', 'ai']\n",
            "2\n"
          ],
          "name": "stdout"
        }
      ]
    },
    {
      "cell_type": "code",
      "metadata": {
        "colab": {
          "base_uri": "https://localhost:8080/"
        },
        "id": "yh3F3FQhNVaV",
        "outputId": "b5605b46-761a-4202-b267-6f3c8600248c"
      },
      "source": [
        "txt =\"the rain in spain\"\n",
        "x= re.search(\"\\s\",txt)\n",
        "print(\"the first space is at:\",x.start())"
      ],
      "execution_count": null,
      "outputs": [
        {
          "output_type": "stream",
          "text": [
            "the first space is at: 3\n"
          ],
          "name": "stdout"
        }
      ]
    },
    {
      "cell_type": "code",
      "metadata": {
        "colab": {
          "base_uri": "https://localhost:8080/"
        },
        "id": "NQz5oDVeN2w7",
        "outputId": "ee1a9d72-dbaf-4c7f-93d9-7ef60104a401"
      },
      "source": [
        "txt =\"the rain in spain\"\n",
        "x= re.split(\"\\s\",txt)\n",
        "print(x)\n",
        "x= re.split(\"\\s\",txt,1)\n",
        "print(x)"
      ],
      "execution_count": null,
      "outputs": [
        {
          "output_type": "stream",
          "text": [
            "['the', 'rain', 'in', 'spain']\n",
            "['the', 'rain in spain']\n"
          ],
          "name": "stdout"
        }
      ]
    },
    {
      "cell_type": "code",
      "metadata": {
        "colab": {
          "base_uri": "https://localhost:8080/"
        },
        "id": "NfXZGUNnOU_e",
        "outputId": "d69e4b8a-357a-4dc4-d8a7-607e46270436"
      },
      "source": [
        "txt =\"the rain in spain\"\n",
        "x= re.sub(\"\\s\",\"-\",txt)\n",
        "print(x)\n",
        "x= re.sub(\"\\s\",\"-\",txt,2)\n",
        "print(x)"
      ],
      "execution_count": null,
      "outputs": [
        {
          "output_type": "stream",
          "text": [
            "the-rain-in-spain\n",
            "the-rain-in spain\n"
          ],
          "name": "stdout"
        }
      ]
    },
    {
      "cell_type": "code",
      "metadata": {
        "colab": {
          "base_uri": "https://localhost:8080/"
        },
        "id": "iGR9KI0EO8kY",
        "outputId": "0a9cb21b-fd3f-496a-c435-7e3587906988"
      },
      "source": [
        "line=\"cats are rarer than dogs\"\n",
        "mo=re.match(r'(.*)are(.*?) .*',line,re.M|re.I)#re,M-multiline search,re.I-sreach without case(ignore case)\n",
        "print(mo)\n",
        "if mo:\n",
        "  print(\"mo.group():\",mo.group())\n",
        "  print(\"mo.group(1):\",mo.group(1))\n",
        "  print(\"mo.group(2):\",mo.group(2))\n",
        "else:\n",
        "  print(\"No matches!\")"
      ],
      "execution_count": null,
      "outputs": [
        {
          "output_type": "stream",
          "text": [
            "<re.Match object; span=(0, 24), match='cats are rarer than dogs'>\n",
            "mo.group(): cats are rarer than dogs\n",
            "mo.group(1): cats are r\n",
            "mo.group(2): r\n"
          ],
          "name": "stdout"
        }
      ]
    },
    {
      "cell_type": "markdown",
      "metadata": {
        "id": "nLSitbZNRrs-"
      },
      "source": [
        "##Numpy"
      ]
    },
    {
      "cell_type": "code",
      "metadata": {
        "colab": {
          "base_uri": "https://localhost:8080/"
        },
        "id": "8v_JHpPJRvMk",
        "outputId": "741a98ca-3b05-4775-8d21-942e99a21e1b"
      },
      "source": [
        "import numpy as np\n",
        "arr=np.array([1,2,3,4,5])\n",
        "print(arr)\n",
        "print(arr[1:3])    #to slice an array\n",
        "print(arr[2:])\n",
        "print(arr[1:4:2])  #to print alternate elements"
      ],
      "execution_count": null,
      "outputs": [
        {
          "output_type": "stream",
          "text": [
            "[1 2 3 4 5]\n",
            "[2 3]\n",
            "[3 4 5]\n",
            "[2 4]\n"
          ],
          "name": "stdout"
        }
      ]
    },
    {
      "cell_type": "code",
      "metadata": {
        "colab": {
          "base_uri": "https://localhost:8080/"
        },
        "id": "9dC6QRjAWid4",
        "outputId": "c95f8b8f-59da-4e80-945e-e7791c31bb1b"
      },
      "source": [
        "print(type(arr))\n",
        "print(arr.shape)"
      ],
      "execution_count": null,
      "outputs": [
        {
          "output_type": "stream",
          "text": [
            "<class 'numpy.ndarray'>\n",
            "(5,)\n"
          ],
          "name": "stdout"
        }
      ]
    },
    {
      "cell_type": "code",
      "metadata": {
        "colab": {
          "base_uri": "https://localhost:8080/"
        },
        "id": "goiyPuHPW8M5",
        "outputId": "9f7cfca7-af06-4d50-efa7-cb58ae1f2677"
      },
      "source": [
        "a=np.array(1)\n",
        "b=np.array([1,2,3])\n",
        "c=np.array([[1,2,3],[4,5,6]])\n",
        "d=np.array([[[1,2,3],[4,5,6]],[[1,2,3],[4,5,6]]])\n",
        "print(a)\n",
        "print(b)\n",
        "print(c)\n",
        "print(d)\n"
      ],
      "execution_count": null,
      "outputs": [
        {
          "output_type": "stream",
          "text": [
            "1\n",
            "[1 2 3]\n",
            "[[1 2 3]\n",
            " [4 5 6]]\n",
            "[[[1 2 3]\n",
            "  [4 5 6]]\n",
            "\n",
            " [[1 2 3]\n",
            "  [4 5 6]]]\n"
          ],
          "name": "stdout"
        }
      ]
    },
    {
      "cell_type": "code",
      "metadata": {
        "colab": {
          "base_uri": "https://localhost:8080/",
          "height": 207
        },
        "id": "Yb-T1DepZWRZ",
        "outputId": "9bb64c7f-51cc-4222-a59a-e054ec0651d4"
      },
      "source": [
        "arr=np.array([1,2,3,4,5,6,7,8,9,10,11])\n",
        "newarr=arr.reshape(4,3)\n",
        "print(newarr)"
      ],
      "execution_count": null,
      "outputs": [
        {
          "output_type": "error",
          "ename": "NameError",
          "evalue": "ignored",
          "traceback": [
            "\u001b[0;31m---------------------------------------------------------------------------\u001b[0m",
            "\u001b[0;31mNameError\u001b[0m                                 Traceback (most recent call last)",
            "\u001b[0;32m<ipython-input-2-acbc3784fcd7>\u001b[0m in \u001b[0;36m<module>\u001b[0;34m()\u001b[0m\n\u001b[0;32m----> 1\u001b[0;31m \u001b[0marr\u001b[0m\u001b[0;34m=\u001b[0m\u001b[0mnp\u001b[0m\u001b[0;34m.\u001b[0m\u001b[0marray\u001b[0m\u001b[0;34m(\u001b[0m\u001b[0;34m[\u001b[0m\u001b[0;36m1\u001b[0m\u001b[0;34m,\u001b[0m\u001b[0;36m2\u001b[0m\u001b[0;34m,\u001b[0m\u001b[0;36m3\u001b[0m\u001b[0;34m,\u001b[0m\u001b[0;36m4\u001b[0m\u001b[0;34m,\u001b[0m\u001b[0;36m5\u001b[0m\u001b[0;34m,\u001b[0m\u001b[0;36m6\u001b[0m\u001b[0;34m,\u001b[0m\u001b[0;36m7\u001b[0m\u001b[0;34m,\u001b[0m\u001b[0;36m8\u001b[0m\u001b[0;34m,\u001b[0m\u001b[0;36m9\u001b[0m\u001b[0;34m,\u001b[0m\u001b[0;36m10\u001b[0m\u001b[0;34m,\u001b[0m\u001b[0;36m11\u001b[0m\u001b[0;34m]\u001b[0m\u001b[0;34m)\u001b[0m\u001b[0;34m\u001b[0m\u001b[0;34m\u001b[0m\u001b[0m\n\u001b[0m\u001b[1;32m      2\u001b[0m \u001b[0mnewarr\u001b[0m\u001b[0;34m=\u001b[0m\u001b[0marr\u001b[0m\u001b[0;34m.\u001b[0m\u001b[0mreshape\u001b[0m\u001b[0;34m(\u001b[0m\u001b[0;36m4\u001b[0m\u001b[0;34m,\u001b[0m\u001b[0;36m3\u001b[0m\u001b[0;34m)\u001b[0m\u001b[0;34m\u001b[0m\u001b[0;34m\u001b[0m\u001b[0m\n\u001b[1;32m      3\u001b[0m \u001b[0mprint\u001b[0m\u001b[0;34m(\u001b[0m\u001b[0mnewarr\u001b[0m\u001b[0;34m)\u001b[0m\u001b[0;34m\u001b[0m\u001b[0;34m\u001b[0m\u001b[0m\n",
            "\u001b[0;31mNameError\u001b[0m: name 'np' is not defined"
          ]
        }
      ]
    },
    {
      "cell_type": "code",
      "metadata": {
        "colab": {
          "base_uri": "https://localhost:8080/"
        },
        "id": "b09bJWPBaVuV",
        "outputId": "cbc23498-fa92-4d6a-fe40-b2c40d999700"
      },
      "source": [
        "a=np.array([[1,2,3],[4,5,6]])\n",
        "for x in a:\n",
        "  for y in x:\n",
        "    print(y)"
      ],
      "execution_count": null,
      "outputs": [
        {
          "output_type": "stream",
          "text": [
            "1\n",
            "2\n",
            "3\n",
            "4\n",
            "5\n",
            "6\n"
          ],
          "name": "stdout"
        }
      ]
    },
    {
      "cell_type": "code",
      "metadata": {
        "colab": {
          "base_uri": "https://localhost:8080/",
          "height": 262
        },
        "id": "V_dR5L-Ea_ya",
        "outputId": "802f76b0-2c28-49d1-8697-070a9b965ab2"
      },
      "source": [
        "c=np.array([[1,2,3],[4,5,6]])\n",
        "b=np.array([[2,3,1],[4,6,5]])\n",
        "a=np.concatenate(c,b,axis=0,out=None)\n",
        "print(a)"
      ],
      "execution_count": null,
      "outputs": [
        {
          "output_type": "error",
          "ename": "TypeError",
          "evalue": "ignored",
          "traceback": [
            "\u001b[0;31m---------------------------------------------------------------------------\u001b[0m",
            "\u001b[0;31mTypeError\u001b[0m                                 Traceback (most recent call last)",
            "\u001b[0;32m<ipython-input-41-8f3323da7204>\u001b[0m in \u001b[0;36m<module>\u001b[0;34m()\u001b[0m\n\u001b[1;32m      1\u001b[0m \u001b[0mc\u001b[0m\u001b[0;34m=\u001b[0m\u001b[0mnp\u001b[0m\u001b[0;34m.\u001b[0m\u001b[0marray\u001b[0m\u001b[0;34m(\u001b[0m\u001b[0;34m[\u001b[0m\u001b[0;34m[\u001b[0m\u001b[0;36m1\u001b[0m\u001b[0;34m,\u001b[0m\u001b[0;36m2\u001b[0m\u001b[0;34m,\u001b[0m\u001b[0;36m3\u001b[0m\u001b[0;34m]\u001b[0m\u001b[0;34m,\u001b[0m\u001b[0;34m[\u001b[0m\u001b[0;36m4\u001b[0m\u001b[0;34m,\u001b[0m\u001b[0;36m5\u001b[0m\u001b[0;34m,\u001b[0m\u001b[0;36m6\u001b[0m\u001b[0;34m]\u001b[0m\u001b[0;34m]\u001b[0m\u001b[0;34m)\u001b[0m\u001b[0;34m\u001b[0m\u001b[0;34m\u001b[0m\u001b[0m\n\u001b[1;32m      2\u001b[0m \u001b[0mb\u001b[0m\u001b[0;34m=\u001b[0m\u001b[0mnp\u001b[0m\u001b[0;34m.\u001b[0m\u001b[0marray\u001b[0m\u001b[0;34m(\u001b[0m\u001b[0;34m[\u001b[0m\u001b[0;34m[\u001b[0m\u001b[0;36m2\u001b[0m\u001b[0;34m,\u001b[0m\u001b[0;36m3\u001b[0m\u001b[0;34m,\u001b[0m\u001b[0;36m1\u001b[0m\u001b[0;34m]\u001b[0m\u001b[0;34m,\u001b[0m\u001b[0;34m[\u001b[0m\u001b[0;36m4\u001b[0m\u001b[0;34m,\u001b[0m\u001b[0;36m6\u001b[0m\u001b[0;34m,\u001b[0m\u001b[0;36m5\u001b[0m\u001b[0;34m]\u001b[0m\u001b[0;34m]\u001b[0m\u001b[0;34m)\u001b[0m\u001b[0;34m\u001b[0m\u001b[0;34m\u001b[0m\u001b[0m\n\u001b[0;32m----> 3\u001b[0;31m \u001b[0ma\u001b[0m\u001b[0;34m=\u001b[0m\u001b[0mnp\u001b[0m\u001b[0;34m.\u001b[0m\u001b[0mconcatenate\u001b[0m\u001b[0;34m(\u001b[0m\u001b[0mc\u001b[0m\u001b[0;34m,\u001b[0m\u001b[0mb\u001b[0m\u001b[0;34m,\u001b[0m\u001b[0maxis\u001b[0m\u001b[0;34m=\u001b[0m\u001b[0;36m0\u001b[0m\u001b[0;34m,\u001b[0m\u001b[0mout\u001b[0m\u001b[0;34m=\u001b[0m\u001b[0;32mNone\u001b[0m\u001b[0;34m)\u001b[0m\u001b[0;34m\u001b[0m\u001b[0;34m\u001b[0m\u001b[0m\n\u001b[0m\u001b[1;32m      4\u001b[0m \u001b[0mprint\u001b[0m\u001b[0;34m(\u001b[0m\u001b[0ma\u001b[0m\u001b[0;34m)\u001b[0m\u001b[0;34m\u001b[0m\u001b[0;34m\u001b[0m\u001b[0m\n",
            "\u001b[0;32m<__array_function__ internals>\u001b[0m in \u001b[0;36mconcatenate\u001b[0;34m(*args, **kwargs)\u001b[0m\n",
            "\u001b[0;31mTypeError\u001b[0m: concatenate() got multiple values for argument 'axis'"
          ]
        }
      ]
    },
    {
      "cell_type": "markdown",
      "metadata": {
        "id": "DJKY1j_ghMYi"
      },
      "source": [
        "##Pandas"
      ]
    },
    {
      "cell_type": "code",
      "metadata": {
        "colab": {
          "base_uri": "https://localhost:8080/"
        },
        "id": "7Xqll_RohScw",
        "outputId": "09489db0-71e5-4d31-a24d-3639c3ddf809"
      },
      "source": [
        "import pandas as pd\n",
        "mydataset={'cars':[\"BMW\",\"Volvo\",\"Ford\"],\n",
        "           'quantity':[3,7,2]}\n",
        "myvar=pd.DataFrame(mydataset)\n",
        "print(mydataset)\n",
        "print(myvar)"
      ],
      "execution_count": null,
      "outputs": [
        {
          "output_type": "stream",
          "text": [
            "{'cars': ['BMW', 'Volvo', 'Ford'], 'quantity': [3, 7, 2]}\n",
            "    cars  quantity\n",
            "0    BMW         3\n",
            "1  Volvo         7\n",
            "2   Ford         2\n"
          ],
          "name": "stdout"
        }
      ]
    }
  ]
}